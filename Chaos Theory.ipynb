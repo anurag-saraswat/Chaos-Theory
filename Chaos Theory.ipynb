{
 "cells": [
  {
   "cell_type": "markdown",
   "metadata": {},
   "source": [
    "## <font color = \"brown\">“As far as the laws of mathematics refer to reality, they are not certain, and as far as they are certain, they do not refer to reality.”</font>\n",
    "\n",
    "### -Albert Einstein"
   ]
  },
  {
   "cell_type": "markdown",
   "metadata": {
    "collapsed": true
   },
   "source": [
    "\n",
    "<br><br>\n",
    "# Chaos Theory"
   ]
  },
  {
   "cell_type": "markdown",
   "metadata": {},
   "source": [
    "<b> <h3>Chaos theory is a branch of mathematics and it is focused on the behavior of dynamical systems that are highly sensitive to <font color=red>initial conditions</font>.</h3></b>\n",
    "\n",
    "\n"
   ]
  },
  {
   "cell_type": "markdown",
   "metadata": {},
   "source": [
    "- Chaos is the science of <font color = red>surprises</font>, of the <font color = red>nonlinear</font> and the <font color = red>unpredictable</font>.\n",
    "- It teaches us to expect the unexpected.\n",
    "- While most traditional science deals with supposedly predictable phenomena like gravity, electricity, or chemical reactions, Chaos Theory deals with nonlinear things that are effectively impossible to predict or control, like turbulence, weather, the stock market, our brain states, and so on. \n",
    "  - These phenomena are often described by <font color = \"red\">fractal mathematics</font>.\n",
    "- Recognizing the chaotic, fractal nature of our world can give us new insight, power, and wisdom.\n",
    "\n",
    "## Example:\n",
    " <img src=\"Double-compound-pendulum.gif\" height=\"350\" width=\"250\">\n",
    " \n",
    "**A double rod pendulum animation showing chaotic behavior. Starting the pendulum from a slightly different initial condition would result in a completely different trajectory. The double rod pendulum is one of the simplest dynamical systems with chaotic solutions.**"
   ]
  },
  {
   "cell_type": "markdown",
   "metadata": {},
   "source": [
    "**Edward Lorenz** was an early pioneer of the theory. His interest in chaos came about accidentally through his work on weather prediction in 1961.Lorenz was using a simple digital computer, a Royal McBee LGP-30, to run his weather simulation. He wanted to see a sequence of data again, and to save time he started the simulation in the middle of its course. He did this by entering a printout of the data that corresponded to conditions in the middle of the original simulation. To his surprise, the weather the machine began to predict was completely different from the previous calculation. Lorenz tracked this down to the computer printout. The computer worked with 6-digit precision, but the printout rounded variables off to a 3-digit number, so a value like 0.506127 printed as 0.506. This difference is tiny, and the consensus at the time would have been that it should have no practical effect. However, Lorenz discovered that small changes in initial conditions produced large changes in long-term outcome.Lorenz's discovery, which gave its name to Lorenz attractors, showed that even detailed atmospheric modelling cannot, in general, make precise long-term weather predictions."
   ]
  },
  {
   "cell_type": "markdown",
   "metadata": {},
   "source": [
    "# Principles of Chaos"
   ]
  },
  {
   "cell_type": "markdown",
   "metadata": {},
   "source": [
    "<h3><font color = \"blue\">The Butterfly Effect:</font></h3> This effect grants the power to cause a hurricane in China to a butterfly flapping its wings in New Mexico. It may take a very long time, but the connection is real. If the butterfly had not flapped its wings at just the right point in space/time, the hurricane would not have happened. A more rigorous way to express this is that small changes in the initial conditions lead to drastic changes in the results\n",
    "\n",
    "<h3><font color = \"blue\">Unpredictability:</font></h3>Because we can never know all the initial conditions of a complex system in sufficient (i.e. perfect) detail, we cannot hope to predict the ultimate fate of a complex system. Even slight errors in measuring the state of a system will be amplified dramatically, rendering any prediction useless. Since it is impossible to measure the effects of all the butterflies (etc) in the World, accurate long-range weather prediction will always remain impossible.\n",
    "\n",
    "<h3><font color = \"blue\">Order / Disorder:</font></h3> Chaos is not simply disorder. Chaos explores the transitions between order and disorder, which often occur in surprising ways. \n",
    "\n",
    "<h3><font color = \"blue\">Mixing:</font></h3> Turbulence ensures that two adjacent points in a complex system will eventually end up in very different positions after some time has elapsed. Examples: Two neighboring water molecules may end up in different parts of the ocean or even in different oceans. A group of helium balloons that launch together will eventually land in drastically different places. Mixing is thorough because turbulence occurs at all scales. It is also nonlinear: fluids cannot be unmixed.\n",
    "\n",
    "<h3><font color = \"blue\">Feedback:</font></h3>Systems often become chaotic when there is feedback present. A good example is the behavior of the stock market. As the value of a stock rises or falls, people are inclined to buy or sell that stock. This in turn further affects the price of the stock, causing it to rise or fall chaotically.\n",
    "\n",
    "<h3><font color = \"blue\">Fractals:</font></h3> A fractal is a never-ending pattern. Fractals are infinitely complex patterns that are self-similar across different scales. They are created by repeating a simple process over and over in an ongoing feedback loop. Driven by recursion, fractals are images of dynamic systems – the pictures of Chaos. Geometrically, they exist in between our familiar dimensions. Fractal patterns are extremely familiar, since nature is full of fractals. For instance: trees, rivers, coastlines, mountains, clouds, seashells, hurricanes, etc.\n",
    "<img src = \"bwfracs6.gif\" height=\"350\" width=\"250\" >"
   ]
  },
  {
   "cell_type": "markdown",
   "metadata": {},
   "source": [
    "# Application"
   ]
  },
  {
   "cell_type": "markdown",
   "metadata": {},
   "source": [
    "<h3><font color = \"REd\">Development of Artificial Neural Systems:</font></h3>Artificial neural systems were designed to capture some of the useful brain functions by modeling the features of the brain. Research into the function of the brain has led researchers to conclude that continuing background chaotic activity and chaotic dynamics in information processing are essential elements of biological neural systems.\n",
    "\n",
    "<h3><font color = \"REd\">Cryptography:</font></h3>The similarities between the chaotic maps and the cryptographic systems is the main motivation for the design of chaos based cryptographic algorithms.<br><br>\n",
    " **1. Symmetric Key Algorithms:** It relies on **diffusion** and **confusion**, which is modeled well by chaos theory.**Confusion** means that each binary digit (bit) of the ciphertext should depend on several parts of the key, obscuring the connections between the two.**Diffusion** means that if we change a single bit of the plaintext, then (statistically) half of the bits in the ciphertext should change, and similarly, if we change one bit of the ciphertext, then approximately one half of the plaintext bits should change.<br><br>\n",
    " **2. DNA-Chaos Cryptographic Algorithms :** DNA computing, when paired with chaos theory, offers a way to encrypt images and other information.Many of the DNA-Chaos cryptographic algorithms are proven to be either not secure, or the technique applied is suggested to be not efficient.\n",
    " \n",
    "\n",
    "<h3><font color = \"REd\">Robotics: </font></h3>Robotics is another area that has recently benefited from chaos theory. Instead of robots acting in a trial-and-error type of refinement to interact with their environment, chaos theory has been used to build a predictive model.\n"
   ]
  },
  {
   "cell_type": "markdown",
   "metadata": {},
   "source": [
    "# Some Famous Examples of Fractals"
   ]
  },
  {
   "cell_type": "markdown",
   "metadata": {},
   "source": [
    "## Menger sponge:\n",
    "<img src = \"Mengersponge.gif\" height=\"350\" width=\"250\" >\n",
    "\n"
   ]
  },
  {
   "cell_type": "markdown",
   "metadata": {},
   "source": [
    "## Sierpinski triangle\n",
    "<img src = \"Random_Sierpinski_Triangle_animation.gif\" height=\"350\" width=\"250\" >"
   ]
  },
  {
   "cell_type": "markdown",
   "metadata": {},
   "source": [
    "## Koch snowflake\n",
    "<img src = \"Von_Koch_curve.gif\" height=\"350\" width=\"250\" >"
   ]
  },
  {
   "cell_type": "code",
   "execution_count": null,
   "metadata": {
    "collapsed": true
   },
   "outputs": [],
   "source": []
  }
 ],
 "metadata": {
  "anaconda-cloud": {},
  "kernelspec": {
   "display_name": "Python [default]",
   "language": "python",
   "name": "python3"
  },
  "language_info": {
   "codemirror_mode": {
    "name": "ipython",
    "version": 3
   },
   "file_extension": ".py",
   "mimetype": "text/x-python",
   "name": "python",
   "nbconvert_exporter": "python",
   "pygments_lexer": "ipython3",
   "version": "3.5.2"
  }
 },
 "nbformat": 4,
 "nbformat_minor": 1
}
